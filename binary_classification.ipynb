{
 "cells": [
  {
   "cell_type": "code",
   "execution_count": 1,
   "id": "4ef7e9ac",
   "metadata": {
    "_cell_guid": "b1076dfc-b9ad-4769-8c92-a6c4dae69d19",
    "_uuid": "8f2839f25d086af736a60e9eeb907d3b93b6e0e5",
    "execution": {
     "iopub.execute_input": "2022-06-19T12:21:21.429558Z",
     "iopub.status.busy": "2022-06-19T12:21:21.429126Z",
     "iopub.status.idle": "2022-06-19T12:21:21.441878Z",
     "shell.execute_reply": "2022-06-19T12:21:21.441106Z"
    },
    "papermill": {
     "duration": 0.025219,
     "end_time": "2022-06-19T12:21:21.444056",
     "exception": false,
     "start_time": "2022-06-19T12:21:21.418837",
     "status": "completed"
    },
    "tags": []
   },
   "outputs": [
    {
     "name": "stdout",
     "output_type": "stream",
     "text": [
      "/kaggle/input/titanic/train.csv\n",
      "/kaggle/input/titanic/test.csv\n",
      "/kaggle/input/titanic/gender_submission.csv\n"
     ]
    }
   ],
   "source": [
    "# This Python 3 environment comes with many helpful analytics libraries installed\n",
    "# It is defined by the kaggle/python Docker image: https://github.com/kaggle/docker-python\n",
    "# For example, here's several helpful packages to load\n",
    "\n",
    "import numpy as np # linear algebra\n",
    "import pandas as pd # data processing, CSV file I/O (e.g. pd.read_csv)\n",
    "\n",
    "# Input data files are available in the read-only \"../input/\" directory\n",
    "# For example, running this (by clicking run or pressing Shift+Enter) will list all files under the input directory\n",
    "\n",
    "import os\n",
    "for dirname, _, filenames in os.walk('/kaggle/input'):\n",
    "    for filename in filenames:\n",
    "        print(os.path.join(dirname, filename))\n",
    "\n",
    "# You can write up to 20GB to the current directory (/kaggle/working/) that gets preserved as output when you create a version using \"Save & Run All\" \n",
    "# You can also write temporary files to /kaggle/temp/, but they won't be saved outside of the current session"
   ]
  },
  {
   "cell_type": "code",
   "execution_count": 2,
   "id": "a97f2806",
   "metadata": {
    "execution": {
     "iopub.execute_input": "2022-06-19T12:21:21.456802Z",
     "iopub.status.busy": "2022-06-19T12:21:21.456170Z",
     "iopub.status.idle": "2022-06-19T12:21:21.459862Z",
     "shell.execute_reply": "2022-06-19T12:21:21.459258Z"
    },
    "papermill": {
     "duration": 0.011998,
     "end_time": "2022-06-19T12:21:21.461654",
     "exception": false,
     "start_time": "2022-06-19T12:21:21.449656",
     "status": "completed"
    },
    "tags": []
   },
   "outputs": [],
   "source": [
    "#import libaries\n",
    "import pandas as pd\n",
    "import numpy as np"
   ]
  },
  {
   "cell_type": "code",
   "execution_count": 3,
   "id": "7bce4685",
   "metadata": {
    "execution": {
     "iopub.execute_input": "2022-06-19T12:21:21.474298Z",
     "iopub.status.busy": "2022-06-19T12:21:21.473670Z",
     "iopub.status.idle": "2022-06-19T12:21:21.516332Z",
     "shell.execute_reply": "2022-06-19T12:21:21.515422Z"
    },
    "papermill": {
     "duration": 0.051246,
     "end_time": "2022-06-19T12:21:21.518450",
     "exception": false,
     "start_time": "2022-06-19T12:21:21.467204",
     "status": "completed"
    },
    "tags": []
   },
   "outputs": [],
   "source": [
    "#import csv files \n",
    "train_data_path=\"/kaggle/input/titanic/train.csv\"\n",
    "train_dp= pd.read_csv(train_data_path, index_col=None)\n",
    "test_data_path=\"/kaggle/input/titanic/test.csv\"\n",
    "test_dp=pd.read_csv(test_data_path, index_col=None)\n",
    "train_dp['isTrain'] = True\n",
    "test_dp['isTrain'] = False\n",
    "y_test_path = \"/kaggle/input/titanic/gender_submission.csv\"\n",
    "y_testdf=pd.read_csv(y_test_path,index_col = None)"
   ]
  },
  {
   "cell_type": "code",
   "execution_count": 4,
   "id": "2f1d5ad8",
   "metadata": {
    "execution": {
     "iopub.execute_input": "2022-06-19T12:21:21.531470Z",
     "iopub.status.busy": "2022-06-19T12:21:21.530847Z",
     "iopub.status.idle": "2022-06-19T12:21:21.540000Z",
     "shell.execute_reply": "2022-06-19T12:21:21.538991Z"
    },
    "papermill": {
     "duration": 0.017853,
     "end_time": "2022-06-19T12:21:21.542126",
     "exception": false,
     "start_time": "2022-06-19T12:21:21.524273",
     "status": "completed"
    },
    "tags": []
   },
   "outputs": [],
   "source": [
    "y_testdf=y_testdf.drop(['PassengerId'],axis=1)"
   ]
  },
  {
   "cell_type": "code",
   "execution_count": 5,
   "id": "6c18ae7d",
   "metadata": {
    "execution": {
     "iopub.execute_input": "2022-06-19T12:21:21.554571Z",
     "iopub.status.busy": "2022-06-19T12:21:21.553968Z",
     "iopub.status.idle": "2022-06-19T12:21:21.558181Z",
     "shell.execute_reply": "2022-06-19T12:21:21.557538Z"
    },
    "papermill": {
     "duration": 0.012322,
     "end_time": "2022-06-19T12:21:21.559908",
     "exception": false,
     "start_time": "2022-06-19T12:21:21.547586",
     "status": "completed"
    },
    "tags": []
   },
   "outputs": [],
   "source": [
    "#coverting gender_submission.csv into an array\n",
    "\n",
    "result=[]\n",
    "#for col in y_testdf.columns:\n",
    "   # value = y_testdf[col].to_numpy()\n",
    "    #result.append(value)\n",
    "    \n",
    "result= y_testdf.to_numpy()"
   ]
  },
  {
   "cell_type": "code",
   "execution_count": 6,
   "id": "3e09bb99",
   "metadata": {
    "execution": {
     "iopub.execute_input": "2022-06-19T12:21:21.572105Z",
     "iopub.status.busy": "2022-06-19T12:21:21.571659Z",
     "iopub.status.idle": "2022-06-19T12:21:21.579587Z",
     "shell.execute_reply": "2022-06-19T12:21:21.578965Z"
    },
    "papermill": {
     "duration": 0.01603,
     "end_time": "2022-06-19T12:21:21.581357",
     "exception": false,
     "start_time": "2022-06-19T12:21:21.565327",
     "status": "completed"
    },
    "tags": []
   },
   "outputs": [],
   "source": [
    "#concating the train and test datasets\n",
    "dp=pd.concat([train_dp,test_dp])"
   ]
  },
  {
   "cell_type": "code",
   "execution_count": 7,
   "id": "139ebbce",
   "metadata": {
    "execution": {
     "iopub.execute_input": "2022-06-19T12:21:21.593292Z",
     "iopub.status.busy": "2022-06-19T12:21:21.592697Z",
     "iopub.status.idle": "2022-06-19T12:21:21.623803Z",
     "shell.execute_reply": "2022-06-19T12:21:21.622735Z"
    },
    "papermill": {
     "duration": 0.039355,
     "end_time": "2022-06-19T12:21:21.625887",
     "exception": false,
     "start_time": "2022-06-19T12:21:21.586532",
     "status": "completed"
    },
    "tags": []
   },
   "outputs": [
    {
     "data": {
      "text/html": [
       "<div>\n",
       "<style scoped>\n",
       "    .dataframe tbody tr th:only-of-type {\n",
       "        vertical-align: middle;\n",
       "    }\n",
       "\n",
       "    .dataframe tbody tr th {\n",
       "        vertical-align: top;\n",
       "    }\n",
       "\n",
       "    .dataframe thead th {\n",
       "        text-align: right;\n",
       "    }\n",
       "</style>\n",
       "<table border=\"1\" class=\"dataframe\">\n",
       "  <thead>\n",
       "    <tr style=\"text-align: right;\">\n",
       "      <th></th>\n",
       "      <th>PassengerId</th>\n",
       "      <th>Survived</th>\n",
       "      <th>Pclass</th>\n",
       "      <th>Sex</th>\n",
       "      <th>Age</th>\n",
       "      <th>SibSp</th>\n",
       "      <th>Parch</th>\n",
       "      <th>Fare</th>\n",
       "      <th>Cabin</th>\n",
       "      <th>Embarked</th>\n",
       "      <th>isTrain</th>\n",
       "    </tr>\n",
       "  </thead>\n",
       "  <tbody>\n",
       "    <tr>\n",
       "      <th>0</th>\n",
       "      <td>1</td>\n",
       "      <td>0.0</td>\n",
       "      <td>3</td>\n",
       "      <td>male</td>\n",
       "      <td>22.0</td>\n",
       "      <td>1</td>\n",
       "      <td>0</td>\n",
       "      <td>7.2500</td>\n",
       "      <td>NaN</td>\n",
       "      <td>S</td>\n",
       "      <td>True</td>\n",
       "    </tr>\n",
       "    <tr>\n",
       "      <th>1</th>\n",
       "      <td>2</td>\n",
       "      <td>1.0</td>\n",
       "      <td>1</td>\n",
       "      <td>female</td>\n",
       "      <td>38.0</td>\n",
       "      <td>1</td>\n",
       "      <td>0</td>\n",
       "      <td>71.2833</td>\n",
       "      <td>C85</td>\n",
       "      <td>C</td>\n",
       "      <td>True</td>\n",
       "    </tr>\n",
       "    <tr>\n",
       "      <th>2</th>\n",
       "      <td>3</td>\n",
       "      <td>1.0</td>\n",
       "      <td>3</td>\n",
       "      <td>female</td>\n",
       "      <td>26.0</td>\n",
       "      <td>0</td>\n",
       "      <td>0</td>\n",
       "      <td>7.9250</td>\n",
       "      <td>NaN</td>\n",
       "      <td>S</td>\n",
       "      <td>True</td>\n",
       "    </tr>\n",
       "    <tr>\n",
       "      <th>3</th>\n",
       "      <td>4</td>\n",
       "      <td>1.0</td>\n",
       "      <td>1</td>\n",
       "      <td>female</td>\n",
       "      <td>35.0</td>\n",
       "      <td>1</td>\n",
       "      <td>0</td>\n",
       "      <td>53.1000</td>\n",
       "      <td>C123</td>\n",
       "      <td>S</td>\n",
       "      <td>True</td>\n",
       "    </tr>\n",
       "    <tr>\n",
       "      <th>4</th>\n",
       "      <td>5</td>\n",
       "      <td>0.0</td>\n",
       "      <td>3</td>\n",
       "      <td>male</td>\n",
       "      <td>35.0</td>\n",
       "      <td>0</td>\n",
       "      <td>0</td>\n",
       "      <td>8.0500</td>\n",
       "      <td>NaN</td>\n",
       "      <td>S</td>\n",
       "      <td>True</td>\n",
       "    </tr>\n",
       "    <tr>\n",
       "      <th>...</th>\n",
       "      <td>...</td>\n",
       "      <td>...</td>\n",
       "      <td>...</td>\n",
       "      <td>...</td>\n",
       "      <td>...</td>\n",
       "      <td>...</td>\n",
       "      <td>...</td>\n",
       "      <td>...</td>\n",
       "      <td>...</td>\n",
       "      <td>...</td>\n",
       "      <td>...</td>\n",
       "    </tr>\n",
       "    <tr>\n",
       "      <th>413</th>\n",
       "      <td>1305</td>\n",
       "      <td>NaN</td>\n",
       "      <td>3</td>\n",
       "      <td>male</td>\n",
       "      <td>NaN</td>\n",
       "      <td>0</td>\n",
       "      <td>0</td>\n",
       "      <td>8.0500</td>\n",
       "      <td>NaN</td>\n",
       "      <td>S</td>\n",
       "      <td>False</td>\n",
       "    </tr>\n",
       "    <tr>\n",
       "      <th>414</th>\n",
       "      <td>1306</td>\n",
       "      <td>NaN</td>\n",
       "      <td>1</td>\n",
       "      <td>female</td>\n",
       "      <td>39.0</td>\n",
       "      <td>0</td>\n",
       "      <td>0</td>\n",
       "      <td>108.9000</td>\n",
       "      <td>C105</td>\n",
       "      <td>C</td>\n",
       "      <td>False</td>\n",
       "    </tr>\n",
       "    <tr>\n",
       "      <th>415</th>\n",
       "      <td>1307</td>\n",
       "      <td>NaN</td>\n",
       "      <td>3</td>\n",
       "      <td>male</td>\n",
       "      <td>38.5</td>\n",
       "      <td>0</td>\n",
       "      <td>0</td>\n",
       "      <td>7.2500</td>\n",
       "      <td>NaN</td>\n",
       "      <td>S</td>\n",
       "      <td>False</td>\n",
       "    </tr>\n",
       "    <tr>\n",
       "      <th>416</th>\n",
       "      <td>1308</td>\n",
       "      <td>NaN</td>\n",
       "      <td>3</td>\n",
       "      <td>male</td>\n",
       "      <td>NaN</td>\n",
       "      <td>0</td>\n",
       "      <td>0</td>\n",
       "      <td>8.0500</td>\n",
       "      <td>NaN</td>\n",
       "      <td>S</td>\n",
       "      <td>False</td>\n",
       "    </tr>\n",
       "    <tr>\n",
       "      <th>417</th>\n",
       "      <td>1309</td>\n",
       "      <td>NaN</td>\n",
       "      <td>3</td>\n",
       "      <td>male</td>\n",
       "      <td>NaN</td>\n",
       "      <td>1</td>\n",
       "      <td>1</td>\n",
       "      <td>22.3583</td>\n",
       "      <td>NaN</td>\n",
       "      <td>C</td>\n",
       "      <td>False</td>\n",
       "    </tr>\n",
       "  </tbody>\n",
       "</table>\n",
       "<p>1309 rows × 11 columns</p>\n",
       "</div>"
      ],
      "text/plain": [
       "     PassengerId  Survived  Pclass     Sex   Age  SibSp  Parch      Fare  \\\n",
       "0              1       0.0       3    male  22.0      1      0    7.2500   \n",
       "1              2       1.0       1  female  38.0      1      0   71.2833   \n",
       "2              3       1.0       3  female  26.0      0      0    7.9250   \n",
       "3              4       1.0       1  female  35.0      1      0   53.1000   \n",
       "4              5       0.0       3    male  35.0      0      0    8.0500   \n",
       "..           ...       ...     ...     ...   ...    ...    ...       ...   \n",
       "413         1305       NaN       3    male   NaN      0      0    8.0500   \n",
       "414         1306       NaN       1  female  39.0      0      0  108.9000   \n",
       "415         1307       NaN       3    male  38.5      0      0    7.2500   \n",
       "416         1308       NaN       3    male   NaN      0      0    8.0500   \n",
       "417         1309       NaN       3    male   NaN      1      1   22.3583   \n",
       "\n",
       "    Cabin Embarked  isTrain  \n",
       "0     NaN        S     True  \n",
       "1     C85        C     True  \n",
       "2     NaN        S     True  \n",
       "3    C123        S     True  \n",
       "4     NaN        S     True  \n",
       "..    ...      ...      ...  \n",
       "413   NaN        S    False  \n",
       "414  C105        C    False  \n",
       "415   NaN        S    False  \n",
       "416   NaN        S    False  \n",
       "417   NaN        C    False  \n",
       "\n",
       "[1309 rows x 11 columns]"
      ]
     },
     "execution_count": 7,
     "metadata": {},
     "output_type": "execute_result"
    }
   ],
   "source": [
    "#modify the datasets\n",
    "dp= dp.drop(['Name','Ticket'], axis=1)\n",
    "dp\n"
   ]
  },
  {
   "cell_type": "code",
   "execution_count": 8,
   "id": "edf8a0fd",
   "metadata": {
    "execution": {
     "iopub.execute_input": "2022-06-19T12:21:21.639292Z",
     "iopub.status.busy": "2022-06-19T12:21:21.638557Z",
     "iopub.status.idle": "2022-06-19T12:21:21.648617Z",
     "shell.execute_reply": "2022-06-19T12:21:21.648013Z"
    },
    "papermill": {
     "duration": 0.018819,
     "end_time": "2022-06-19T12:21:21.650386",
     "exception": false,
     "start_time": "2022-06-19T12:21:21.631567",
     "status": "completed"
    },
    "tags": []
   },
   "outputs": [
    {
     "data": {
      "text/plain": [
       "PassengerId       0\n",
       "Survived        418\n",
       "Pclass            0\n",
       "Sex               0\n",
       "Age             263\n",
       "SibSp             0\n",
       "Parch             0\n",
       "Fare              1\n",
       "Cabin          1014\n",
       "Embarked          2\n",
       "isTrain           0\n",
       "dtype: int64"
      ]
     },
     "execution_count": 8,
     "metadata": {},
     "output_type": "execute_result"
    }
   ],
   "source": [
    "#Checking the number of null items in each columns\n",
    "dp.isnull().sum()"
   ]
  },
  {
   "cell_type": "code",
   "execution_count": 9,
   "id": "92a2a9fb",
   "metadata": {
    "execution": {
     "iopub.execute_input": "2022-06-19T12:21:21.663582Z",
     "iopub.status.busy": "2022-06-19T12:21:21.663025Z",
     "iopub.status.idle": "2022-06-19T12:21:21.666674Z",
     "shell.execute_reply": "2022-06-19T12:21:21.666104Z"
    },
    "papermill": {
     "duration": 0.012191,
     "end_time": "2022-06-19T12:21:21.668425",
     "exception": false,
     "start_time": "2022-06-19T12:21:21.656234",
     "status": "completed"
    },
    "tags": []
   },
   "outputs": [],
   "source": [
    "#features columns\n",
    "features = ['PassengerId', 'Pclass','Sex', 'Age', 'SibSp', 'Parch', 'Fare', 'Embarked' ]"
   ]
  },
  {
   "cell_type": "code",
   "execution_count": 10,
   "id": "694bd722",
   "metadata": {
    "execution": {
     "iopub.execute_input": "2022-06-19T12:21:21.681426Z",
     "iopub.status.busy": "2022-06-19T12:21:21.680877Z",
     "iopub.status.idle": "2022-06-19T12:21:21.708555Z",
     "shell.execute_reply": "2022-06-19T12:21:21.707934Z"
    },
    "papermill": {
     "duration": 0.036241,
     "end_time": "2022-06-19T12:21:21.710424",
     "exception": false,
     "start_time": "2022-06-19T12:21:21.674183",
     "status": "completed"
    },
    "tags": []
   },
   "outputs": [
    {
     "data": {
      "text/html": [
       "<div>\n",
       "<style scoped>\n",
       "    .dataframe tbody tr th:only-of-type {\n",
       "        vertical-align: middle;\n",
       "    }\n",
       "\n",
       "    .dataframe tbody tr th {\n",
       "        vertical-align: top;\n",
       "    }\n",
       "\n",
       "    .dataframe thead th {\n",
       "        text-align: right;\n",
       "    }\n",
       "</style>\n",
       "<table border=\"1\" class=\"dataframe\">\n",
       "  <thead>\n",
       "    <tr style=\"text-align: right;\">\n",
       "      <th></th>\n",
       "      <th>PassengerId</th>\n",
       "      <th>Survived</th>\n",
       "      <th>Pclass</th>\n",
       "      <th>Sex</th>\n",
       "      <th>Age</th>\n",
       "      <th>SibSp</th>\n",
       "      <th>Parch</th>\n",
       "      <th>Fare</th>\n",
       "      <th>Cabin</th>\n",
       "      <th>Embarked</th>\n",
       "      <th>isTrain</th>\n",
       "    </tr>\n",
       "  </thead>\n",
       "  <tbody>\n",
       "    <tr>\n",
       "      <th>0</th>\n",
       "      <td>1</td>\n",
       "      <td>0.0</td>\n",
       "      <td>3</td>\n",
       "      <td>0</td>\n",
       "      <td>22.000000</td>\n",
       "      <td>1</td>\n",
       "      <td>0</td>\n",
       "      <td>7.2500</td>\n",
       "      <td>NaN</td>\n",
       "      <td>2</td>\n",
       "      <td>1</td>\n",
       "    </tr>\n",
       "    <tr>\n",
       "      <th>1</th>\n",
       "      <td>2</td>\n",
       "      <td>1.0</td>\n",
       "      <td>1</td>\n",
       "      <td>1</td>\n",
       "      <td>38.000000</td>\n",
       "      <td>1</td>\n",
       "      <td>0</td>\n",
       "      <td>71.2833</td>\n",
       "      <td>C85</td>\n",
       "      <td>0</td>\n",
       "      <td>1</td>\n",
       "    </tr>\n",
       "    <tr>\n",
       "      <th>2</th>\n",
       "      <td>3</td>\n",
       "      <td>1.0</td>\n",
       "      <td>3</td>\n",
       "      <td>1</td>\n",
       "      <td>26.000000</td>\n",
       "      <td>0</td>\n",
       "      <td>0</td>\n",
       "      <td>7.9250</td>\n",
       "      <td>NaN</td>\n",
       "      <td>2</td>\n",
       "      <td>1</td>\n",
       "    </tr>\n",
       "    <tr>\n",
       "      <th>3</th>\n",
       "      <td>4</td>\n",
       "      <td>1.0</td>\n",
       "      <td>1</td>\n",
       "      <td>1</td>\n",
       "      <td>35.000000</td>\n",
       "      <td>1</td>\n",
       "      <td>0</td>\n",
       "      <td>53.1000</td>\n",
       "      <td>C123</td>\n",
       "      <td>2</td>\n",
       "      <td>1</td>\n",
       "    </tr>\n",
       "    <tr>\n",
       "      <th>4</th>\n",
       "      <td>5</td>\n",
       "      <td>0.0</td>\n",
       "      <td>3</td>\n",
       "      <td>0</td>\n",
       "      <td>35.000000</td>\n",
       "      <td>0</td>\n",
       "      <td>0</td>\n",
       "      <td>8.0500</td>\n",
       "      <td>NaN</td>\n",
       "      <td>2</td>\n",
       "      <td>1</td>\n",
       "    </tr>\n",
       "    <tr>\n",
       "      <th>...</th>\n",
       "      <td>...</td>\n",
       "      <td>...</td>\n",
       "      <td>...</td>\n",
       "      <td>...</td>\n",
       "      <td>...</td>\n",
       "      <td>...</td>\n",
       "      <td>...</td>\n",
       "      <td>...</td>\n",
       "      <td>...</td>\n",
       "      <td>...</td>\n",
       "      <td>...</td>\n",
       "    </tr>\n",
       "    <tr>\n",
       "      <th>413</th>\n",
       "      <td>1305</td>\n",
       "      <td>NaN</td>\n",
       "      <td>3</td>\n",
       "      <td>0</td>\n",
       "      <td>29.881138</td>\n",
       "      <td>0</td>\n",
       "      <td>0</td>\n",
       "      <td>8.0500</td>\n",
       "      <td>NaN</td>\n",
       "      <td>2</td>\n",
       "      <td>0</td>\n",
       "    </tr>\n",
       "    <tr>\n",
       "      <th>414</th>\n",
       "      <td>1306</td>\n",
       "      <td>NaN</td>\n",
       "      <td>1</td>\n",
       "      <td>1</td>\n",
       "      <td>39.000000</td>\n",
       "      <td>0</td>\n",
       "      <td>0</td>\n",
       "      <td>108.9000</td>\n",
       "      <td>C105</td>\n",
       "      <td>0</td>\n",
       "      <td>0</td>\n",
       "    </tr>\n",
       "    <tr>\n",
       "      <th>415</th>\n",
       "      <td>1307</td>\n",
       "      <td>NaN</td>\n",
       "      <td>3</td>\n",
       "      <td>0</td>\n",
       "      <td>38.500000</td>\n",
       "      <td>0</td>\n",
       "      <td>0</td>\n",
       "      <td>7.2500</td>\n",
       "      <td>NaN</td>\n",
       "      <td>2</td>\n",
       "      <td>0</td>\n",
       "    </tr>\n",
       "    <tr>\n",
       "      <th>416</th>\n",
       "      <td>1308</td>\n",
       "      <td>NaN</td>\n",
       "      <td>3</td>\n",
       "      <td>0</td>\n",
       "      <td>29.881138</td>\n",
       "      <td>0</td>\n",
       "      <td>0</td>\n",
       "      <td>8.0500</td>\n",
       "      <td>NaN</td>\n",
       "      <td>2</td>\n",
       "      <td>0</td>\n",
       "    </tr>\n",
       "    <tr>\n",
       "      <th>417</th>\n",
       "      <td>1309</td>\n",
       "      <td>NaN</td>\n",
       "      <td>3</td>\n",
       "      <td>0</td>\n",
       "      <td>29.881138</td>\n",
       "      <td>1</td>\n",
       "      <td>1</td>\n",
       "      <td>22.3583</td>\n",
       "      <td>NaN</td>\n",
       "      <td>0</td>\n",
       "      <td>0</td>\n",
       "    </tr>\n",
       "  </tbody>\n",
       "</table>\n",
       "<p>1309 rows × 11 columns</p>\n",
       "</div>"
      ],
      "text/plain": [
       "     PassengerId  Survived  Pclass  Sex        Age  SibSp  Parch      Fare  \\\n",
       "0              1       0.0       3    0  22.000000      1      0    7.2500   \n",
       "1              2       1.0       1    1  38.000000      1      0   71.2833   \n",
       "2              3       1.0       3    1  26.000000      0      0    7.9250   \n",
       "3              4       1.0       1    1  35.000000      1      0   53.1000   \n",
       "4              5       0.0       3    0  35.000000      0      0    8.0500   \n",
       "..           ...       ...     ...  ...        ...    ...    ...       ...   \n",
       "413         1305       NaN       3    0  29.881138      0      0    8.0500   \n",
       "414         1306       NaN       1    1  39.000000      0      0  108.9000   \n",
       "415         1307       NaN       3    0  38.500000      0      0    7.2500   \n",
       "416         1308       NaN       3    0  29.881138      0      0    8.0500   \n",
       "417         1309       NaN       3    0  29.881138      1      1   22.3583   \n",
       "\n",
       "    Cabin  Embarked  isTrain  \n",
       "0     NaN         2        1  \n",
       "1     C85         0        1  \n",
       "2     NaN         2        1  \n",
       "3    C123         2        1  \n",
       "4     NaN         2        1  \n",
       "..    ...       ...      ...  \n",
       "413   NaN         2        0  \n",
       "414  C105         0        0  \n",
       "415   NaN         2        0  \n",
       "416   NaN         2        0  \n",
       "417   NaN         0        0  \n",
       "\n",
       "[1309 rows x 11 columns]"
      ]
     },
     "execution_count": 10,
     "metadata": {},
     "output_type": "execute_result"
    }
   ],
   "source": [
    "#Removed nulls values form each features columns\n",
    "dp['Age'].fillna(dp['Age'].mean(), inplace = True)\n",
    "dp['Fare'].fillna(dp['Fare'].mean(), inplace = True)\n",
    "dp['Embarked'].fillna('S', inplace=True)\n",
    "dp['Embarked'] = dp['Embarked'].map({\n",
    "    'C' : 0,\n",
    "    'Q' : 1,\n",
    "    'S' : 2\n",
    "})\n",
    "dp['Sex'] = dp['Sex'].map({\n",
    "    'male' : 0,\n",
    "    'female' : 1\n",
    "})\n",
    "dp['isTrain'] = dp['isTrain'].map({\n",
    "    False : 0,\n",
    "    True : 1\n",
    "})\n",
    "dp['Embarked'].fillna(0)\n",
    "dp"
   ]
  },
  {
   "cell_type": "code",
   "execution_count": 11,
   "id": "b7588d74",
   "metadata": {
    "execution": {
     "iopub.execute_input": "2022-06-19T12:21:21.724228Z",
     "iopub.status.busy": "2022-06-19T12:21:21.723614Z",
     "iopub.status.idle": "2022-06-19T12:21:21.737173Z",
     "shell.execute_reply": "2022-06-19T12:21:21.736257Z"
    },
    "papermill": {
     "duration": 0.022556,
     "end_time": "2022-06-19T12:21:21.739147",
     "exception": false,
     "start_time": "2022-06-19T12:21:21.716591",
     "status": "completed"
    },
    "tags": []
   },
   "outputs": [
    {
     "data": {
      "text/plain": [
       "PassengerId    0\n",
       "Pclass         0\n",
       "Sex            0\n",
       "Age            0\n",
       "SibSp          0\n",
       "Parch          0\n",
       "Fare           0\n",
       "Embarked       0\n",
       "dtype: int64"
      ]
     },
     "execution_count": 11,
     "metadata": {},
     "output_type": "execute_result"
    }
   ],
   "source": [
    "#split the dataset into train and test datasets \n",
    "train= dp.loc[dp[\"isTrain\"]==1, :].copy()\n",
    "test= dp.loc[dp[\"isTrain\"]==0, :].copy()\n",
    "x_train=train[features]\n",
    "x_test =test[features]\n",
    "y_train=train['Survived']\n",
    "#check for more null items in features columns of x_rain set\n",
    "x_train.isnull().sum()"
   ]
  },
  {
   "cell_type": "code",
   "execution_count": 12,
   "id": "1f736211",
   "metadata": {
    "execution": {
     "iopub.execute_input": "2022-06-19T12:21:21.753713Z",
     "iopub.status.busy": "2022-06-19T12:21:21.752985Z",
     "iopub.status.idle": "2022-06-19T12:21:21.761149Z",
     "shell.execute_reply": "2022-06-19T12:21:21.760396Z"
    },
    "papermill": {
     "duration": 0.017711,
     "end_time": "2022-06-19T12:21:21.763096",
     "exception": false,
     "start_time": "2022-06-19T12:21:21.745385",
     "status": "completed"
    },
    "tags": []
   },
   "outputs": [
    {
     "data": {
      "text/plain": [
       "PassengerId    0\n",
       "Pclass         0\n",
       "Sex            0\n",
       "Age            0\n",
       "SibSp          0\n",
       "Parch          0\n",
       "Fare           0\n",
       "Embarked       0\n",
       "dtype: int64"
      ]
     },
     "execution_count": 12,
     "metadata": {},
     "output_type": "execute_result"
    }
   ],
   "source": [
    "#check for more null items in features columns of x_test set\n",
    "x_test.isnull().sum()"
   ]
  },
  {
   "cell_type": "code",
   "execution_count": 13,
   "id": "d34c3ac4",
   "metadata": {
    "execution": {
     "iopub.execute_input": "2022-06-19T12:21:21.777707Z",
     "iopub.status.busy": "2022-06-19T12:21:21.777044Z",
     "iopub.status.idle": "2022-06-19T12:21:22.984397Z",
     "shell.execute_reply": "2022-06-19T12:21:22.983630Z"
    },
    "papermill": {
     "duration": 1.217007,
     "end_time": "2022-06-19T12:21:22.986511",
     "exception": false,
     "start_time": "2022-06-19T12:21:21.769504",
     "status": "completed"
    },
    "tags": []
   },
   "outputs": [
    {
     "data": {
      "text/plain": [
       "RandomForestClassifier(max_depth=6, n_estimators=20, random_state=123)"
      ]
     },
     "execution_count": 13,
     "metadata": {},
     "output_type": "execute_result"
    }
   ],
   "source": [
    "from sklearn.ensemble import RandomForestClassifier\n",
    "\n",
    "model = RandomForestClassifier(n_estimators=20, \n",
    "                               max_depth=6,\n",
    "                               random_state=123)\n",
    "model.fit(x_train, y_train)"
   ]
  },
  {
   "cell_type": "code",
   "execution_count": 14,
   "id": "827dbbbe",
   "metadata": {
    "execution": {
     "iopub.execute_input": "2022-06-19T12:21:23.001485Z",
     "iopub.status.busy": "2022-06-19T12:21:23.000607Z",
     "iopub.status.idle": "2022-06-19T12:21:23.019020Z",
     "shell.execute_reply": "2022-06-19T12:21:23.018114Z"
    },
    "papermill": {
     "duration": 0.027963,
     "end_time": "2022-06-19T12:21:23.021034",
     "exception": false,
     "start_time": "2022-06-19T12:21:22.993071",
     "status": "completed"
    },
    "tags": []
   },
   "outputs": [
    {
     "data": {
      "text/plain": [
       "array([0., 1., 0., 0., 1., 0., 1., 0., 1., 0., 0., 0., 1., 0., 1., 1., 0.,\n",
       "       0., 0., 1., 0., 0., 1., 0., 1., 0., 1., 0., 0., 0., 0., 0., 1., 0.,\n",
       "       0., 0., 1., 1., 0., 0., 0., 0., 0., 1., 1., 0., 0., 0., 1., 1., 0.,\n",
       "       0., 1., 1., 0., 0., 0., 0., 0., 1., 0., 0., 0., 1., 1., 1., 1., 0.,\n",
       "       0., 1., 1., 0., 1., 0., 1., 0., 0., 1., 0., 1., 1., 0., 0., 0., 0.,\n",
       "       0., 1., 1., 1., 1., 1., 0., 1., 0., 0., 0., 1., 0., 1., 0., 1., 0.,\n",
       "       0., 0., 1., 0., 0., 0., 0., 0., 0., 1., 1., 1., 1., 0., 0., 1., 0.,\n",
       "       1., 1., 0., 1., 0., 0., 1., 0., 1., 0., 0., 0., 0., 0., 0., 0., 0.,\n",
       "       0., 0., 1., 0., 0., 1., 0., 0., 0., 0., 0., 0., 0., 0., 1., 0., 0.,\n",
       "       1., 0., 0., 1., 1., 0., 1., 1., 1., 1., 0., 0., 0., 0., 0., 1., 1.,\n",
       "       0., 0., 0., 0., 0., 1., 1., 0., 1., 1., 0., 0., 1., 0., 1., 0., 1.,\n",
       "       0., 0., 0., 0., 0., 0., 0., 1., 0., 1., 1., 0., 1., 1., 1., 0., 1.,\n",
       "       0., 0., 1., 0., 1., 0., 0., 0., 0., 1., 0., 0., 1., 0., 1., 0., 1.,\n",
       "       0., 1., 0., 1., 1., 0., 1., 0., 0., 0., 1., 0., 0., 0., 0., 0., 0.,\n",
       "       1., 1., 1., 1., 0., 0., 0., 0., 1., 0., 1., 1., 1., 0., 0., 0., 0.,\n",
       "       0., 0., 0., 1., 0., 0., 0., 1., 1., 0., 0., 0., 0., 1., 0., 0., 0.,\n",
       "       1., 1., 0., 1., 0., 0., 0., 0., 1., 1., 1., 1., 1., 0., 0., 0., 0.,\n",
       "       0., 0., 1., 0., 0., 0., 0., 1., 0., 0., 0., 0., 0., 0., 0., 1., 1.,\n",
       "       0., 1., 0., 0., 0., 0., 0., 1., 1., 1., 0., 0., 0., 0., 0., 0., 0.,\n",
       "       0., 1., 0., 1., 0., 0., 0., 1., 0., 0., 1., 0., 0., 0., 0., 0., 0.,\n",
       "       0., 0., 0., 1., 0., 1., 0., 1., 0., 1., 1., 0., 0., 0., 1., 0., 1.,\n",
       "       0., 0., 1., 0., 1., 1., 0., 1., 1., 0., 1., 1., 0., 0., 1., 0., 0.,\n",
       "       1., 1., 0., 0., 0., 0., 0., 0., 1., 1., 0., 1., 0., 0., 0., 0., 0.,\n",
       "       1., 0., 0., 0., 1., 0., 1., 0., 0., 1., 0., 1., 0., 0., 0., 0., 0.,\n",
       "       1., 1., 1., 1., 1., 0., 1., 0., 0., 0.])"
      ]
     },
     "execution_count": 14,
     "metadata": {},
     "output_type": "execute_result"
    }
   ],
   "source": [
    "#predict Survived for x_test dataset\n",
    "y_pred = model.predict(x_test)\n",
    "y_pred"
   ]
  },
  {
   "cell_type": "code",
   "execution_count": 15,
   "id": "ffb00a43",
   "metadata": {
    "execution": {
     "iopub.execute_input": "2022-06-19T12:21:23.036530Z",
     "iopub.status.busy": "2022-06-19T12:21:23.035558Z",
     "iopub.status.idle": "2022-06-19T12:21:23.043726Z",
     "shell.execute_reply": "2022-06-19T12:21:23.042419Z"
    },
    "papermill": {
     "duration": 0.018663,
     "end_time": "2022-06-19T12:21:23.046425",
     "exception": false,
     "start_time": "2022-06-19T12:21:23.027762",
     "status": "completed"
    },
    "tags": []
   },
   "outputs": [
    {
     "name": "stdout",
     "output_type": "stream",
     "text": [
      "Model accuracy score : \n",
      "0.9569377990430622\n"
     ]
    }
   ],
   "source": [
    "from sklearn.metrics import accuracy_score\n",
    "\n",
    "print('Model accuracy score : ')\n",
    "print(accuracy_score(result, y_pred))"
   ]
  },
  {
   "cell_type": "code",
   "execution_count": 16,
   "id": "75081d67",
   "metadata": {
    "execution": {
     "iopub.execute_input": "2022-06-19T12:21:23.063846Z",
     "iopub.status.busy": "2022-06-19T12:21:23.062868Z",
     "iopub.status.idle": "2022-06-19T12:21:23.072396Z",
     "shell.execute_reply": "2022-06-19T12:21:23.071736Z"
    },
    "papermill": {
     "duration": 0.020007,
     "end_time": "2022-06-19T12:21:23.074592",
     "exception": false,
     "start_time": "2022-06-19T12:21:23.054585",
     "status": "completed"
    },
    "tags": []
   },
   "outputs": [],
   "source": [
    "#Submission\n",
    "Submission = pd.DataFrame({ 'PassengerId': x_test['PassengerId'],\n",
    "                            'Survived': y_pred })\n",
    "Submission.to_csv(\"Submission.csv\", index=False)"
   ]
  },
  {
   "cell_type": "code",
   "execution_count": null,
   "id": "14f43017",
   "metadata": {
    "papermill": {
     "duration": 0.006428,
     "end_time": "2022-06-19T12:21:23.088278",
     "exception": false,
     "start_time": "2022-06-19T12:21:23.081850",
     "status": "completed"
    },
    "tags": []
   },
   "outputs": [],
   "source": []
  }
 ],
 "metadata": {
  "kernelspec": {
   "display_name": "Python 3",
   "language": "python",
   "name": "python3"
  },
  "language_info": {
   "codemirror_mode": {
    "name": "ipython",
    "version": 3
   },
   "file_extension": ".py",
   "mimetype": "text/x-python",
   "name": "python",
   "nbconvert_exporter": "python",
   "pygments_lexer": "ipython3",
   "version": "3.7.12"
  },
  "papermill": {
   "default_parameters": {},
   "duration": 11.721911,
   "end_time": "2022-06-19T12:21:23.816437",
   "environment_variables": {},
   "exception": null,
   "input_path": "__notebook__.ipynb",
   "output_path": "__notebook__.ipynb",
   "parameters": {},
   "start_time": "2022-06-19T12:21:12.094526",
   "version": "2.3.4"
  }
 },
 "nbformat": 4,
 "nbformat_minor": 5
}
